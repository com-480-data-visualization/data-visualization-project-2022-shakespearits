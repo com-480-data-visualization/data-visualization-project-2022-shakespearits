{
 "cells": [
  {
   "cell_type": "markdown",
   "id": "0227e164-2b3d-425e-bdf5-e7cb5b76daf6",
   "metadata": {},
   "source": [
    "# Create json file from csv files"
   ]
  },
  {
   "cell_type": "code",
   "execution_count": 1,
   "id": "0cc438b0-a80a-4138-b746-2c1f4db1b0d4",
   "metadata": {},
   "outputs": [],
   "source": [
    "import csv\n",
    "import json\n",
    "import pandas as pd"
   ]
  },
  {
   "cell_type": "markdown",
   "id": "e9baded7",
   "metadata": {},
   "source": [
    "generate json file for anychart"
   ]
  },
  {
   "cell_type": "code",
   "execution_count": 4,
   "id": "85991ea0",
   "metadata": {},
   "outputs": [],
   "source": [
    "# Takes the file paths as arguments\n",
    "df_names = pd.read_csv('../data/character_metadata.csv')\n",
    "df_links = pd.read_csv('../data/character_links.csv')\n",
    "\n",
    "# create a dictionary\n",
    "data = {}\n",
    "headers = [\"nodes\", \"edges\"]\n",
    "headers_nodes = [\"play_name\", \"id\", \"fill\", \"role\", \"description\"]\n",
    "headers_edges = [\"play_name\", \"from\", \"to\", \"label\"]\n",
    "\n",
    "nodes = []\n",
    "for i in range(len(df_names)):\n",
    "    if (df_names[\"character_name\"][i] in df_links[\"from\"].values or df_names[\"character_name\"][i] in df_links[\"to\"].values) :\n",
    "        obj = {}\n",
    "        \n",
    "        obj[headers_nodes[0]] = df_names[\"play_name\"][i] # group by play\n",
    "        obj[headers_nodes[1]] = df_names[\"character_name\"][i]\n",
    "        if (df_names[\"gender\"][i] == \"M\"):\n",
    "            obj[headers_nodes[2]] = \"rgb(100, 149, 237)\"\n",
    "        elif (df_names[\"gender\"][i] == \"W\"):\n",
    "            obj[headers_nodes[2]] = \"rgb(255, 182, 193)\"\n",
    "        else: # no gender \n",
    "            obj[headers_nodes[2]] = \"rgb(205, 133, 63)\"\n",
    "        \n",
    "        obj[headers_nodes[3]] = df_names[\"character_role\"][i]\n",
    "        obj[headers_nodes[4]] = df_names[\"description\"][i]\n",
    "        # add the generated obj to the nodes\n",
    "        nodes.append(obj)\n",
    "\n",
    "edges = []\n",
    "for i in range(len(df_links)):\n",
    "    obj = {}\n",
    "    obj[headers_edges[0]] = df_links[\"play_name\"][i] # play_name\n",
    "    obj[headers_edges[1]] = df_links[\"from\"][i] # from\n",
    "    obj[headers_edges[2]] = df_links[\"to\"][i] # to\n",
    "    obj[headers_edges[3]] = df_links[\"label\"][i] # link\n",
    "    # add the generated obj to edges\n",
    "\n",
    "    edges.append(obj)\n",
    "\n",
    "data[headers[0]] = nodes\n",
    "data[headers[1]] = edges\n",
    "\n",
    "# Decide the two file paths according to your\n",
    "# computer system\n",
    "jsonFilePath = '../data/character_links.json'\n",
    " \n",
    "# Open a json writer, and use the json.dumps()\n",
    "# function to dump data\n",
    "with open(jsonFilePath, 'w', encoding='utf-8') as jsonf:\n",
    "    jsonf.write(json.dumps(data, indent=4))\n"
   ]
  },
  {
   "cell_type": "code",
   "execution_count": null,
   "id": "340196b4",
   "metadata": {},
   "outputs": [],
   "source": []
  }
 ],
 "metadata": {
  "interpreter": {
   "hash": "31f2aee4e71d21fbe5cf8b01ff0e069b9275f58929596ceb00d14d90e3e16cd6"
  },
  "kernelspec": {
   "display_name": "Python 3.8.9 64-bit",
   "language": "python",
   "name": "python3"
  },
  "language_info": {
   "codemirror_mode": {
    "name": "ipython",
    "version": 3
   },
   "file_extension": ".py",
   "mimetype": "text/x-python",
   "name": "python",
   "nbconvert_exporter": "python",
   "pygments_lexer": "ipython3",
   "version": "3.8.9"
  }
 },
 "nbformat": 4,
 "nbformat_minor": 5
}
