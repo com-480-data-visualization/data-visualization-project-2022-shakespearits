{
 "cells": [
  {
   "cell_type": "markdown",
   "id": "0227e164-2b3d-425e-bdf5-e7cb5b76daf6",
   "metadata": {},
   "source": [
    "# Shakespeare's plays"
   ]
  },
  {
   "cell_type": "code",
   "execution_count": null,
   "id": "0cc438b0-a80a-4138-b746-2c1f4db1b0d4",
   "metadata": {},
   "outputs": [],
   "source": [
    "import numpy as np\n",
    "import pandas as pd\n",
    "import seaborn as sns\n",
    "import matplotlib.pyplot as plt\n",
    "\n",
    "import string\n",
    "import numpy as np\n",
    "import pandas as pd\n",
    "import seaborn as sns\n",
    "import matplotlib.pyplot as plt\n",
    "\n",
    "#NLP libraries\n",
    "import spacy\n",
    "from empath import Empath\n",
    "\n",
    "nlp = spacy.load('en_core_web_sm')"
   ]
  },
  {
   "cell_type": "markdown",
   "id": "ab34ba0d",
   "metadata": {},
   "source": [
    "## Read the data"
   ]
  },
  {
   "cell_type": "code",
   "execution_count": null,
   "id": "9128c88c",
   "metadata": {},
   "outputs": [],
   "source": [
    "# read the data\n",
    "DATA = \"../data/\"\n",
    "df = pd.read_csv(DATA + \"Shakespeare_data.csv\")\n",
    "df = df.drop(columns=['Dataline'])\n",
    "\n",
    "df = df.dropna()"
   ]
  },
  {
   "cell_type": "code",
   "execution_count": null,
   "id": "94f6aa5c",
   "metadata": {},
   "outputs": [],
   "source": [
    "df.head()"
   ]
  },
  {
   "cell_type": "code",
   "execution_count": null,
   "id": "84462a49",
   "metadata": {},
   "outputs": [],
   "source": [
    "df.info()"
   ]
  },
  {
   "cell_type": "markdown",
   "id": "20d5f7e8",
   "metadata": {},
   "source": [
    "## Clean the dataframe"
   ]
  },
  {
   "cell_type": "code",
   "execution_count": null,
   "id": "f32554e7",
   "metadata": {},
   "outputs": [],
   "source": [
    "# clean dataframe\n",
    "df = df[df.Player.notnull()]\n",
    "\n",
    "# get the individual act, scene and line numbers from the ActSceneLine column\n",
    "df['Act'] = [act.split(\".\")[0] if pd.notnull(act) else act for act in df.ActSceneLine]\n",
    "df['Scene'] = [act.split(\".\")[1] if pd.notnull(act) else act for act in df.ActSceneLine]\n",
    "df['Line'] = [act.split(\".\")[2] if pd.notnull(act) else act for act in df.ActSceneLine]\n",
    "\n",
    "df['Act'] = pd.to_numeric(df['Act'], errors='coerce')\n",
    "df['Scene'] = pd.to_numeric(df['Scene'], errors='coerce')\n",
    "df['Line'] = pd.to_numeric(df['Line'], errors='coerce')\n",
    "\n",
    "df['Player'] = [player.capitalize() for player in df.Player]\n",
    "\n",
    "# plays of interest\n",
    "plays = ['Hamlet', 'Othello', 'Macbeth', 'King Lear', 'Romeo and Juliet', \n",
    "         'A Midsummer nights dream', 'Julius Caesar', 'Merchant of Venice']\n",
    "plays = [play.capitalize() for play in plays]\n",
    "\n",
    "# filter the selected plays in the dataframe\n",
    "df['Play'] = [play.capitalize() for play in df.Play]\n",
    "df = df[df['Play'].isin(plays)]\n",
    "\n",
    "df"
   ]
  },
  {
   "cell_type": "code",
   "execution_count": null,
   "id": "29f20d35",
   "metadata": {},
   "outputs": [],
   "source": [
    "# creates one dataframe for each play\n",
    "Hamlet = df[(df[\"Play\"] == \"Hamlet\")]\n",
    "King_Lear = df[(df[\"Play\"] == \"King Lear\")]\n",
    "Julius_Caesar = df[(df[\"Play\"] == \"Julius Caesar\")]\n",
    "macbeth = df[(df[\"Play\"] == \"macbeth\")]\n",
    "Merchant_of_Venice = df[(df[\"Play\"] == \"Merchant of Venice\")]\n",
    "A_Midsummer_nights_dream = df[(df[\"Play\"] == \"A Midsummer nights dream\")]\n",
    "Othello = df[(df[\"Play\"] == \"Othello\")]\n",
    "Romeo_and_Juliet = df[(df[\"Play\"] == \"Romeo and Juliet\")]"
   ]
  },
  {
   "cell_type": "code",
   "execution_count": null,
   "id": "c1f7b518",
   "metadata": {},
   "outputs": [],
   "source": [
    "# check for null values\n",
    "df.isnull().sum()"
   ]
  },
  {
   "cell_type": "markdown",
   "id": "ec707a6c",
   "metadata": {},
   "source": [
    "## Analysis of the plays"
   ]
  },
  {
   "cell_type": "markdown",
   "id": "09cc7345",
   "metadata": {},
   "source": [
    "### List all the players per play"
   ]
  },
  {
   "cell_type": "code",
   "execution_count": null,
   "id": "b3687e45",
   "metadata": {},
   "outputs": [],
   "source": [
    "# create a dictionnary containing for each Shakespeare's play, a list of all the players\n",
    "players_per_play = {shakespeare_play: df[df.Play == shakespeare_play].Player.unique().tolist() for shakespeare_play in df.Play.unique()}\n",
    "players_per_play"
   ]
  },
  {
   "cell_type": "markdown",
   "id": "c06e5c46",
   "metadata": {},
   "source": [
    "### Number of players in each play"
   ]
  },
  {
   "cell_type": "code",
   "execution_count": null,
   "id": "752b25d9",
   "metadata": {},
   "outputs": [],
   "source": [
    "numberPlayers = df.groupby(['Play'])['Player'].nunique().sort_values(ascending= False).to_frame().reset_index()\n",
    "numberPlayers = numberPlayers.rename(columns={\"Player\": \"Num Players\"})\n",
    "numberPlayers\n",
    "\n",
    "plt.figure(figsize=(10,10))\n",
    "ax = sns.barplot(x='Num Players',y='Play',data=numberPlayers)\n",
    "ax.set(xlabel='Number of Players', ylabel='Play Name')\n",
    "plt.show()"
   ]
  },
  {
   "cell_type": "markdown",
   "id": "c273ff0f",
   "metadata": {},
   "source": [
    "### Number of lines for each play"
   ]
  },
  {
   "cell_type": "code",
   "execution_count": null,
   "id": "aa07b23e",
   "metadata": {},
   "outputs": [],
   "source": [
    "Play_Count = df['Play'].value_counts()\n",
    "Play_Count.plot(kind='barh',label='Play Count',figsize=(8,9),colormap='plasma')"
   ]
  },
  {
   "cell_type": "markdown",
   "id": "f75bf87a",
   "metadata": {},
   "source": [
    "#### Number of lines for each player"
   ]
  },
  {
   "cell_type": "code",
   "execution_count": null,
   "id": "1558c63e",
   "metadata": {},
   "outputs": [],
   "source": [
    "Player_Count = df['Player'].value_counts()[:30]\n",
    "Player_Count.plot(kind='barh',label='Player Count Top 30',figsize=(8,10),colormap='plasma')"
   ]
  },
  {
   "cell_type": "code",
   "execution_count": null,
   "id": "9a76cc1a",
   "metadata": {},
   "outputs": [],
   "source": [
    "plt.rcParams['figure.figsize']=(12.5,5)\n",
    "ax = sns.barplot(x='Play',y='PlayerLinenumber',data = df)\n",
    "plt.setp(ax.get_xticklabels(), rotation=90)"
   ]
  },
  {
   "cell_type": "markdown",
   "id": "8cf0dd51",
   "metadata": {},
   "source": [
    "### Get the name of the players mentioned in every line of the play"
   ]
  },
  {
   "cell_type": "code",
   "execution_count": null,
   "id": "0068cc23",
   "metadata": {},
   "outputs": [],
   "source": [
    "def line_analysis(line_series, players_per_play):\n",
    "    ''' Analyze each line of the play: get the number of words and detect if other players are mentioned in the line.'''\n",
    "    \n",
    "    line = line_series.PlayerLine\n",
    "    \n",
    "    # tokenize the line into words and remove the punctuation\n",
    "    words = [word.strip(string.punctuation) for word in line.split()]\n",
    "    \n",
    "    # get the number of words in a line\n",
    "    nb_words = len(words)\n",
    "    line_series['NbWords'] = nb_words\n",
    "    \n",
    "    # get the players' names for this play\n",
    "    list_of_players = players_per_play[line_series.Play]\n",
    "    \n",
    "    # get the names of the players mentioned in the line\n",
    "    mentioned_players = [word.capitalize() for word in words if word.capitalize() in list_of_players]\n",
    "    # get the number of players mentioned in the line\n",
    "    nb_mentioned_players = len(mentioned_players)\n",
    "    \n",
    "    line_series['NbMentionedPlayers'] = nb_mentioned_players\n",
    "    line_series['MentionedPlayer'] = mentioned_players\n",
    "    \n",
    "    return (line_series)"
   ]
  },
  {
   "cell_type": "code",
   "execution_count": null,
   "id": "dce0684a",
   "metadata": {},
   "outputs": [],
   "source": [
    "# keep only lines where a player talks (remove scene description lines)\n",
    "mentions = df.apply(lambda x: line_analysis(x, players_per_play), axis=1)\n",
    "\n",
    "# add new columns to main dataframe\n",
    "df['NbWords'] = mentions['NbWords']\n",
    "df['NbMentionedPlayers'] = mentions['NbMentionedPlayers']\n",
    "df['MentionedPlayer'] = mentions['MentionedPlayer']\n",
    "df.loc[df['ActSceneLine'].isnull(), 'NbMentionedPlayers'] = None\n",
    "df.loc[df['ActSceneLine'].isnull(), 'MentionedPlayer'] = None\n",
    "\n",
    "mentions = mentions.explode('MentionedPlayer')\n",
    "mentions = mentions[mentions['ActSceneLine'].notnull() \n",
    "                    & mentions['MentionedPlayer'].notnull()][['Play', 'ActSceneLine', 'Player', 'MentionedPlayer']]\n",
    "mentions"
   ]
  },
  {
   "cell_type": "code",
   "execution_count": null,
   "id": "094cc25a",
   "metadata": {},
   "outputs": [],
   "source": [
    "df.head(5)"
   ]
  },
  {
   "cell_type": "markdown",
   "id": "dcdf6811",
   "metadata": {},
   "source": [
    "### Find the first and last players speaking in a scene"
   ]
  },
  {
   "cell_type": "code",
   "execution_count": null,
   "id": "dcbdc455",
   "metadata": {},
   "outputs": [],
   "source": [
    "def find_players(x):\n",
    "    ''' Finds the first and last players speaking in a scene '''\n",
    "    \n",
    "    first_player = x[x.Line == 1]['Player'].values[0]\n",
    "    last_player = x[x.Line == x.Line.max()]['Player'].values[0]\n",
    "    \n",
    "    return pd.Series(data = {'first_player': first_player, 'last_player': last_player})"
   ]
  },
  {
   "cell_type": "code",
   "execution_count": null,
   "id": "1305ef8b",
   "metadata": {},
   "outputs": [],
   "source": [
    "# first and last player speaking in a scene\n",
    "df.groupby(['Play', 'Act', 'Scene']).apply(find_players)"
   ]
  },
  {
   "cell_type": "markdown",
   "id": "003e8baa",
   "metadata": {},
   "source": [
    "### Find the most talkative player in each scene"
   ]
  },
  {
   "cell_type": "code",
   "execution_count": null,
   "id": "2abba1be",
   "metadata": {},
   "outputs": [],
   "source": [
    "# get the number of words of each player in each scene\n",
    "talkative_df = df.groupby(['Play', 'Act', 'Scene', 'Player'])['NbWords'].sum().reset_index() \n",
    "# get player that said the most words in each scene \n",
    "talkative_df = talkative_df.groupby(['Play', 'Act', 'Scene'])[['Player', 'NbWords']].max().reset_index()\n",
    "talkative_df"
   ]
  },
  {
   "cell_type": "markdown",
   "id": "3ab122e2",
   "metadata": {},
   "source": [
    "## Topic detection"
   ]
  },
  {
   "cell_type": "code",
   "execution_count": null,
   "id": "febac2af",
   "metadata": {},
   "outputs": [],
   "source": [
    "def empath_analysis(s, categories, nlp):\n",
    "    ''' gets a series type object containing a line of a play and does a topic detection for that line'''\n",
    "    \n",
    "    # analyze line\n",
    "    doc = nlp(s['PlayerLine'])\n",
    "    # empath analysis on line\n",
    "    empath_features = lexicon.analyze(doc.text,categories = categories)\n",
    "    \n",
    "    return pd.Series(empath_features)"
   ]
  },
  {
   "cell_type": "code",
   "execution_count": null,
   "id": "1d552792",
   "metadata": {},
   "outputs": [],
   "source": [
    "lexicon = Empath()\n",
    "\n",
    "#categories = [\"love\", \"betrayal\", \"loyalty\", \"revenge\", \"family\", \"power\", \"guilt\", \"fate\", \"fortune\", \n",
    "#              \"poverty\", \"forgiveness\", \"reconciliation\", \"jealousy\", \"war\", \"corruption\", \"good\", \"evil\"]\n",
    "categories = [\"love\", \"family\", \"power\", \"war\"]\n",
    "\n",
    "semantic_df = df.copy()\n",
    "semantic_df = semantic_df[semantic_df['ActSceneLine'].notnull()] # make sure it is not a description line\n",
    "semantic_df[categories] = semantic_df.apply(lambda x: empath_analysis(x, categories, nlp), axis=1) # topic detection\n",
    "\n",
    "semantic_df"
   ]
  },
  {
   "cell_type": "markdown",
   "id": "b9b36923",
   "metadata": {},
   "source": [
    "### Detect how the topics evolve between acts for each play"
   ]
  },
  {
   "cell_type": "code",
   "execution_count": null,
   "id": "6ab105e9",
   "metadata": {},
   "outputs": [],
   "source": [
    "# topic detection for each play - for each act\n",
    "play_topics = semantic_df.copy()\n",
    "# get the number of topic that occured for each act\n",
    "play_topics = play_topics.groupby(['Play', 'Act'])[['NbWords'] + categories].sum().reset_index()\n",
    "# normalize the number of topics by the number of words per act\n",
    "play_topics.loc[:, categories] = play_topics[categories].div(play_topics['NbWords'], axis=0)\n",
    "play_topics"
   ]
  },
  {
   "cell_type": "code",
   "execution_count": null,
   "id": "6de517af",
   "metadata": {},
   "outputs": [],
   "source": [
    "plot_df = pd.melt(play_topics, id_vars=['Play', 'Act'], \n",
    "                  value_vars=categories, var_name='topic', value_name='value')\n",
    "plot_df['Act'] = plot_df['Act'].apply(lambda x: str(int(x)))\n",
    "\n",
    "sns.relplot(\n",
    "    data=plot_df, x=\"Act\", y=\"value\", col=\"Play\",\n",
    "    hue=\"topic\", style=\"topic\", kind=\"line\", col_wrap=3\n",
    ")"
   ]
  },
  {
   "cell_type": "markdown",
   "id": "4c027a1d",
   "metadata": {},
   "source": [
    "### Detect how the topics evolve between different plays"
   ]
  },
  {
   "cell_type": "code",
   "execution_count": null,
   "id": "b0fd4859",
   "metadata": {},
   "outputs": [],
   "source": [
    "sns.relplot(\n",
    "    data=plot_df, x=\"Act\", y=\"value\", col=\"topic\",\n",
    "    hue=\"Play\", style=\"Play\", kind=\"line\", col_wrap=2\n",
    ")"
   ]
  },
  {
   "cell_type": "markdown",
   "id": "a82febf4",
   "metadata": {},
   "source": [
    "### Detect how the topics evolve for each player of each play"
   ]
  },
  {
   "cell_type": "code",
   "execution_count": null,
   "id": "7a9352d5",
   "metadata": {},
   "outputs": [],
   "source": [
    "# topic detection for each play - for each player\n",
    "\n",
    "play_topics = semantic_df.copy()\n",
    "# get the number of topic that occured for each act\n",
    "play_topics = play_topics.groupby(['Play', 'Player'])[['NbWords'] + categories].sum().reset_index()\n",
    "# normalize the number of topics by the number of words per act\n",
    "play_topics.loc[:, categories] = play_topics[categories].div(play_topics['NbWords'], axis=0)\n",
    "play_topics"
   ]
  },
  {
   "cell_type": "code",
   "execution_count": null,
   "id": "36eacbf4",
   "metadata": {},
   "outputs": [],
   "source": [
    "# topic detection for each play - for each act - for each player\n",
    "\n",
    "play_topics = semantic_df.copy()\n",
    "# get the number of topic that occured for each act\n",
    "play_topics = play_topics.groupby(['Play', 'Act', 'Player'])[['NbWords'] + categories].sum().reset_index()\n",
    "# normalize the number of topics by the number of words per act\n",
    "play_topics.loc[:, categories] = play_topics[categories].div(play_topics['NbWords'], axis=0)\n",
    "play_topics"
   ]
  },
  {
   "cell_type": "code",
   "execution_count": null,
   "id": "04fd1248",
   "metadata": {},
   "outputs": [],
   "source": [
    "plot_df = pd.melt(play_topics.reset_index(), id_vars=['Play', 'Act', 'Player'], \n",
    "                  value_vars=categories, var_name='topic', value_name='value')\n",
    "\n",
    "sns.relplot(\n",
    "    data=plot_df, x=\"Act\", y=\"value\", col=\"Player\",\n",
    "    hue=\"topic\", style=\"topic\", kind=\"line\", col_wrap=4\n",
    ")"
   ]
  },
  {
   "cell_type": "markdown",
   "id": "704ba71c",
   "metadata": {},
   "source": [
    "### Wordclouds"
   ]
  },
  {
   "cell_type": "code",
   "execution_count": null,
   "id": "0616e2c6",
   "metadata": {},
   "outputs": [],
   "source": [
    "all_word = pd.Series(df['PlayerLine'].tolist()).astype(str)\n",
    "word = pd.Series(df['PlayerLine'].tolist()).astype(str)\n",
    "\n",
    "Hamlet_word = pd.Series(Hamlet['PlayerLine'].tolist()).astype(str)\n",
    "King_Lear_word = pd.Series(King_Lear['PlayerLine'].tolist()).astype(str)\n",
    "Julius_Caesar_word = pd.Series(Julius_Caesar['PlayerLine'].tolist()).astype(str)\n",
    "macbeth_word = pd.Series(macbeth['PlayerLine'].tolist()).astype(str)\n",
    "Merchant_of_Venice_word = pd.Series(Merchant_of_Venice['PlayerLine'].tolist()).astype(str)\n",
    "A_Midsummer_nights_dream_word = pd.Series(A_Midsummer_nights_dream['PlayerLine'].tolist()).astype(str)\n",
    "Othello_word = pd.Series(Othello['PlayerLine'].tolist()).astype(str)\n",
    "Romeo_and_Juliet_word = pd.Series(Romeo_and_Juliet['PlayerLine'].tolist()).astype(str)"
   ]
  },
  {
   "cell_type": "markdown",
   "id": "462a7e32",
   "metadata": {},
   "source": [
    "Creating a WordCloud to see which words appear the most in each play"
   ]
  },
  {
   "cell_type": "code",
   "execution_count": null,
   "id": "212f7454",
   "metadata": {},
   "outputs": [],
   "source": [
    "from wordcloud import WordCloud\n",
    "from wordcloud import STOPWORDS\n",
    "\n",
    "# create stopword list\n",
    "stopwords = set(STOPWORDS)\n",
    "stopwords.add(\"come\")\n",
    "stopwords.add(\"will\")\n",
    "stopwords.add(\"O\")\n",
    "stopwords.add(\"let\")\n",
    "stopwords.add(\"thou\")\n",
    "stopwords.add(\"thy\")\n",
    "stopwords.add(\"now\")\n",
    "stopwords.add(\"know\")\n",
    "stopwords.add(\"well\")\n",
    "stopwords.add(\"thus\")\n",
    "stopwords.add(\"thee\")\n",
    "stopwords.add(\"go\")\n",
    "stopwords.add(\"say\")\n",
    "stopwords.add(\"yet\")\n",
    "stopwords.add(\"upon\")\n",
    "stopwords.add(\"hath\")\n",
    "stopwords.add(\"tis\")\n",
    "stopwords.add(\"make\")\n",
    "stopwords.add(\"see\")\n",
    "stopwords.add(\"may\")\n",
    "stopwords.add(\"must\")\n",
    "stopwords.add(\"give\")\n",
    "stopwords.add(\"much\")\n",
    "stopwords.add(\"one\")\n",
    "stopwords.add(\"take\")\n",
    "\n",
    "play_name = df['Play'].unique().tolist()\n",
    "for play in play_name:\n",
    "    word = pd.Series(df[df[\"Play\"] == play][\"PlayerLine\"].tolist()).astype(str)\n",
    "    cloud = WordCloud(margin=0, stopwords= stopwords, max_font_size=125).generate(' '.join(word.astype(str)))\n",
    "    print(play)\n",
    "    plt.figure(figsize=(20,15)) \n",
    "    plt.imshow(cloud)\n",
    "    plt.axis('off')\n",
    "    plt.show()"
   ]
  },
  {
   "cell_type": "markdown",
   "id": "cb593ae9",
   "metadata": {},
   "source": [
    "## Sentiment Analysis"
   ]
  },
  {
   "cell_type": "code",
   "execution_count": null,
   "id": "590cbe9a",
   "metadata": {},
   "outputs": [],
   "source": []
  }
 ],
 "metadata": {
  "kernelspec": {
   "display_name": "Python 3 (ipykernel)",
   "language": "python",
   "name": "python3"
  },
  "language_info": {
   "codemirror_mode": {
    "name": "ipython",
    "version": 3
   },
   "file_extension": ".py",
   "mimetype": "text/x-python",
   "name": "python",
   "nbconvert_exporter": "python",
   "pygments_lexer": "ipython3",
   "version": "3.8.9"
  }
 },
 "nbformat": 4,
 "nbformat_minor": 5
}
